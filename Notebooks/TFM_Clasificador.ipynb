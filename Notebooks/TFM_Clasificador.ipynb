{
 "cells": [
  {
   "cell_type": "code",
   "execution_count": 2,
   "metadata": {},
   "outputs": [],
   "source": [
    "import pandas as pd\n",
    "import matplotlib.pyplot as plt\n",
    "import seaborn as sns\n",
    "import numpy as np\n",
    "from sklearn.model_selection import train_test_split\n",
    "from sklearn.linear_model import SGDClassifier\n",
    "from sklearn.svm import SVC\n",
    "from sklearn.metrics import accuracy_score\n",
    "from sklearn.metrics import RocCurveDisplay\n",
    "from sklearn.metrics import confusion_matrix, classification_report\n",
    "from sklearn.model_selection import RepeatedStratifiedKFold, cross_val_score\n",
    "from sklearn.metrics import roc_auc_score\n",
    "import sklearn\n",
    "from explainerdashboard import RegressionExplainer, ClassifierExplainer, ExplainerDashboard, InlineExplainer\n",
    "\n",
    "RANDOM_STATE = 123"
   ]
  },
  {
   "cell_type": "code",
   "execution_count": 4,
   "metadata": {},
   "outputs": [
    {
     "name": "stderr",
     "output_type": "stream",
     "text": [
      "c:\\ProgramData\\Anaconda3\\lib\\site-packages\\openpyxl\\styles\\stylesheet.py:221: UserWarning: Workbook contains no default style, apply openpyxl's default\n"
     ]
    }
   ],
   "source": [
    "smt_2020_df = pd.read_excel('data/I11_SMT Incidents 2020.xlsx')\n",
    "\n",
    "smt_2020_df.columns = smt_2020_df.iloc[11].values\n",
    "smt_2020_df = smt_2020_df.iloc[12:]\n",
    "smt_2020_df = smt_2020_df.reset_index(drop=True)\n"
   ]
  },
  {
   "cell_type": "code",
   "execution_count": 5,
   "metadata": {},
   "outputs": [],
   "source": [
    "smt_2021_df = pd.read_excel('data/I11_SMT Incidents 2021.xlsx')\n",
    "\n",
    "smt_2021_df.columns = smt_2021_df.iloc[11].values\n",
    "smt_2021_df = smt_2021_df.iloc[12:]\n",
    "smt_2021_df = smt_2021_df.reset_index(drop=True)"
   ]
  },
  {
   "cell_type": "code",
   "execution_count": 6,
   "metadata": {},
   "outputs": [],
   "source": [
    "smt_2022_df = pd.read_excel('data/I11_SMT Incidents 2022.xlsx')\n",
    "\n",
    "smt_2022_df.columns = smt_2022_df.iloc[11].values\n",
    "smt_2022_df = smt_2022_df.iloc[12:]\n",
    "smt_2022_df = smt_2022_df.reset_index(drop=True)"
   ]
  },
  {
   "cell_type": "code",
   "execution_count": 7,
   "metadata": {},
   "outputs": [],
   "source": [
    "smt_df = pd.concat([smt_2020_df, smt_2021_df, smt_2022_df])\n",
    "smt_df.reset_index(drop=True,inplace=True)\n",
    "\n",
    "pd.set_option('display.max_columns', None)"
   ]
  },
  {
   "cell_type": "code",
   "execution_count": 8,
   "metadata": {},
   "outputs": [],
   "source": [
    "celonis_2020_df = pd.read_excel('data/Tickets_Celonis_2020.xlsx')\n",
    "celonis_2020_df = celonis_2020_df.reset_index(drop=True)"
   ]
  },
  {
   "cell_type": "code",
   "execution_count": 9,
   "metadata": {},
   "outputs": [],
   "source": [
    "celonis_2021_df = pd.read_excel('data/Tickets_Celonis_2021.xlsx')\n",
    "celonis_2021_df = celonis_2021_df.reset_index(drop=True)"
   ]
  },
  {
   "cell_type": "code",
   "execution_count": 10,
   "metadata": {},
   "outputs": [],
   "source": [
    "celonis_2022_df = pd.read_excel('data/Tickets_Celonis_2022.xlsx')\n",
    "celonis_2022_df = celonis_2022_df.reset_index(drop=True)"
   ]
  },
  {
   "cell_type": "code",
   "execution_count": 11,
   "metadata": {},
   "outputs": [],
   "source": [
    "celonis_df = pd.concat([celonis_2020_df, celonis_2021_df, celonis_2022_df])\n",
    "celonis_df.reset_index(drop=True,inplace=True)"
   ]
  },
  {
   "cell_type": "code",
   "execution_count": 12,
   "metadata": {},
   "outputs": [],
   "source": [
    "#Posibles a borrar ['Current Incident Type', 'Region', 'Impact', 'Site','Product Categorization Tier 1', 'Resolution Categorization Tier 1', 'Resolution Categorization Tier 2', ]\n",
    "#Posibles a no borrar ['Customer Department', 'Primary Center Code']\n",
    "\n",
    "no_borrados_para_analisis = ['Status Reason', 'Customer Department', 'Desk Location', 'Impact', 'Service+', 'CI+', 'Resolution Categorization Tier 3', 'Desk Location']\n",
    "\n",
    "smt_df_clean = smt_df.drop(['Original Incident Number', 'Requisition ID', 'Created Date (UTC+0)', 'Status', 'Customer Department', 'Summary', 'In Progess Time (hhh:mi)\\n', 'Actual Duration/Open Time (hhh:mi)',\n",
    "                                         'Down Time of CI-Unavailability (hhh:mi)', 'Last Modified Date (UTC+0)', 'First Resolved Date (UTC+0)', 'Last Resolved Date (UTC+0)', 'Product Name', \n",
    "                                         'Resolution Product Name', 'Primary Center Code', 'Target Date', 'Notes', 'Resolution'], axis=1)\n",
    "\n",
    "smt_df_clean.fillna('NaN', inplace=True)"
   ]
  },
  {
   "cell_type": "code",
   "execution_count": 13,
   "metadata": {},
   "outputs": [],
   "source": [
    "#Posibles a borrar ['Site Group', 'Submitter Group', 'Resolver Organization']\n",
    "#Posibles a no borrar ['Template Name', 'User Company']\n",
    "celonis_no_borrados_para_analisis = ['Service Name', 'Template Name', 'User Company', 'CI']\n",
    "\n",
    "celonis_df_clean = celonis_df.drop(['Submit Date', 'Ticket Summary', 'Last Resolution Date', 'Requisition ID', 'Site', 'Site Group', 'Reported Source', 'Status'], axis=1)\n",
    "celonis_df_clean.fillna('NaN', inplace=True)"
   ]
  },
  {
   "cell_type": "code",
   "execution_count": 14,
   "metadata": {},
   "outputs": [],
   "source": [
    "combined_df = pd.merge(celonis_df_clean, smt_df_clean, how='inner', left_on='Incident Number', right_on='Incident ID')\n",
    "combined_df.drop(['Incident ID'], axis=1, inplace=True) #Comprobar Target Date"
   ]
  },
  {
   "cell_type": "code",
   "execution_count": 15,
   "metadata": {},
   "outputs": [
    {
     "data": {
      "text/plain": [
       "\"Q1 = combined_df['Last Resolution Time'].quantile(0.1)\\nQ3 = combined_df['Last Resolution Time'].quantile(0.9)\\nIQR = Q3 - Q1\\n\\n# Filtra las filas que no son outliers\\ncombined_df = combined_df[combined_df['Last Resolution Time'] <= Q3 + 1.5 * IQR]\\ncombined_df.shape\""
      ]
     },
     "execution_count": 15,
     "metadata": {},
     "output_type": "execute_result"
    }
   ],
   "source": [
    "\"\"\"Q1 = combined_df['Last Resolution Time'].quantile(0.1)\n",
    "Q3 = combined_df['Last Resolution Time'].quantile(0.9)\n",
    "IQR = Q3 - Q1\n",
    "\n",
    "# Filtra las filas que no son outliers\n",
    "combined_df = combined_df[combined_df['Last Resolution Time'] <= Q3 + 1.5 * IQR]\n",
    "combined_df.shape\"\"\""
   ]
  },
  {
   "cell_type": "code",
   "execution_count": 16,
   "metadata": {},
   "outputs": [],
   "source": [
    "combined_df['Is On Time'] = (combined_df['Last Resolution Time'] <= 1).astype(int)\n",
    "combined_df.drop(['Last Resolution Time'], axis=1, inplace=True)"
   ]
  },
  {
   "cell_type": "code",
   "execution_count": 17,
   "metadata": {},
   "outputs": [
    {
     "data": {
      "text/plain": [
       "1    6390\n",
       "0    5365\n",
       "Name: Is On Time, dtype: int64"
      ]
     },
     "execution_count": 17,
     "metadata": {},
     "output_type": "execute_result"
    }
   ],
   "source": [
    "isOnTime_counts = combined_df['Is On Time'].value_counts()\n",
    "isOnTime_counts"
   ]
  },
  {
   "cell_type": "code",
   "execution_count": 18,
   "metadata": {},
   "outputs": [
    {
     "data": {
      "image/png": "[encoded data removed]",
      "text/plain": [
       "<Figure size 432x288 with 1 Axes>"
      ]
     },
     "metadata": {
      "needs_background": "light"
     },
     "output_type": "display_data"
    }
   ],
   "source": [
    "plt.bar(isOnTime_counts.index, isOnTime_counts.values, color=['blue', 'orange'])\n",
    "\n",
    "# Añadir etiquetas y título\n",
    "plt.xlabel('Resuelto en menos de un día')\n",
    "plt.ylabel('Número de incidencias')\n",
    "plt.title('Incidencias según el tiempo de resolución')\n",
    "\n",
    "# Personalizar las etiquetas del eje x\n",
    "plt.xticks(isOnTime_counts.index, ['Menos de un día', 'Más de un día'])\n",
    "\n",
    "# Mostrar el gráfico\n",
    "plt.show()"
   ]
  },
  {
   "cell_type": "code",
   "execution_count": 19,
   "metadata": {},
   "outputs": [
    {
     "data": {
      "text/plain": [
       "<AxesSubplot:ylabel='Is On Time'>"
      ]
     },
     "execution_count": 19,
     "metadata": {},
     "output_type": "execute_result"
    },
    {
     "data": {
      "image/png": "[encoded data removed]",
      "text/plain": [
       "<Figure size 432x288 with 1 Axes>"
      ]
     },
     "metadata": {},
     "output_type": "display_data"
    }
   ],
   "source": [
    "isOnTime_counts.plot.pie()"
   ]
  },
  {
   "cell_type": "code",
   "execution_count": 20,
   "metadata": {},
   "outputs": [
    {
     "data": {
      "text/plain": [
       "(11755, 1561)"
      ]
     },
     "execution_count": 20,
     "metadata": {},
     "output_type": "execute_result"
    }
   ],
   "source": [
    "columns_list = combined_df.columns\n",
    "columns_list = [elem for elem in columns_list if elem not in ['Incident Number', 'Is On Time']] \n",
    "combined_df_one_hot = pd.get_dummies(combined_df, columns=columns_list)\n",
    "combined_df_one_hot.shape"
   ]
  },
  {
   "cell_type": "code",
   "execution_count": 21,
   "metadata": {},
   "outputs": [],
   "source": [
    "X = combined_df_one_hot.drop(['Incident Number', 'Is On Time'], axis=1).values\n",
    "y = combined_df_one_hot['Is On Time'].values\n",
    "\n",
    "X_train, X_test, y_train, y_test = train_test_split(X, y, test_size=0.2, random_state=RANDOM_STATE)"
   ]
  },
  {
   "cell_type": "code",
   "execution_count": 22,
   "metadata": {},
   "outputs": [
    {
     "data": {
      "text/plain": [
       "'log_loss'"
      ]
     },
     "execution_count": 22,
     "metadata": {},
     "output_type": "execute_result"
    }
   ],
   "source": [
    "if (sklearn.__version__ < \"1.1.0\"):\n",
    "    funcion_coste = 'log'\n",
    "else:\n",
    "    funcion_coste = 'log_loss'\n",
    "funcion_coste"
   ]
  },
  {
   "cell_type": "code",
   "execution_count": 23,
   "metadata": {},
   "outputs": [
    {
     "name": "stdout",
     "output_type": "stream",
     "text": [
      "Precisión (Acurracy) :  85.62%\n",
      "Puntuación de validación cruzada(Cross Validation Score) con Train :  94.83%\n",
      "Puntuación ROC_AUC :  85.08%\n"
     ]
    },
    {
     "data": {
      "image/png": "[encoded data removed]",
      "text/plain": [
       "<Figure size 432x288 with 1 Axes>"
      ]
     },
     "metadata": {
      "needs_background": "light"
     },
     "output_type": "display_data"
    },
    {
     "name": "stdout",
     "output_type": "stream",
     "text": [
      "              precision    recall  f1-score   support\n",
      "\n",
      "           0       0.88      0.79      0.83      1074\n",
      "           1       0.84      0.91      0.87      1277\n",
      "\n",
      "    accuracy                           0.86      2351\n",
      "   macro avg       0.86      0.85      0.85      2351\n",
      "weighted avg       0.86      0.86      0.86      2351\n",
      "\n"
     ]
    },
    {
     "data": {
      "image/png": "[encoded data removed]",
      "text/plain": [
       "<Figure size 432x288 with 2 Axes>"
      ]
     },
     "metadata": {
      "needs_background": "light"
     },
     "output_type": "display_data"
    }
   ],
   "source": [
    "log_classifier = SGDClassifier(loss=funcion_coste,  fit_intercept=True, random_state=RANDOM_STATE)\n",
    "\n",
    "log_classifier.fit(X_train, y_train)\n",
    "prediction = log_classifier.predict(X_test)\n",
    "accuracy = accuracy_score(y_test, prediction)\n",
    "\n",
    "cv = RepeatedStratifiedKFold(n_splits = 10, n_repeats = 3, random_state = 1)\n",
    "\n",
    "print(\"Precisión (Acurracy) : \",'{0:.2%}'.format(accuracy_score(y_test,prediction)))\n",
    "print(\"Puntuación de validación cruzada(Cross Validation Score) con Train : \",'{0:.2%}'.format(cross_val_score(log_classifier,X_train,y_train, cv = cv ,scoring = 'roc_auc').mean()))\n",
    "#print(\"Puntuación de validación cruzada(Cross Validation Score) con Val : \",'{0:.2%}'.format(cross_val_score(log_classifier,X_val_OH_sc,y_val_OH, cv = cv ,scoring = 'roc_auc').mean()))\n",
    "print(\"Puntuación ROC_AUC : \",'{0:.2%}'.format(roc_auc_score(y_test,prediction)))\n",
    "\n",
    "RocCurveDisplay.from_estimator(log_classifier, X_test,y_test)\n",
    "plt.title('ROC_AUC')\n",
    "plt.show()\n",
    "\n",
    "colores = ['#55A4DB','#FFBF24']\n",
    "# Matriz de confusión\n",
    "\n",
    "cm = confusion_matrix(y_test, prediction)\n",
    "nombres = ['Verdadero Negativo','Falso Positivo','Falso Negativo','Verdadero Positivo']\n",
    "counts = [value for value in cm.flatten()]\n",
    "porcentajes = ['{0:.2%}'.format(value) for value in cm.flatten()/np.sum(cm)]\n",
    "etiquetas = [f'{v1}\\n{v2}\\n{v3}' for v1, v2, v3 in zip(nombres,counts,porcentajes)]\n",
    "etiquetas = np.asarray(etiquetas).reshape(2,2)\n",
    "sns.heatmap(cm,annot = etiquetas,cmap = colores,fmt ='')\n",
    "\n",
    "# Informe con clasificaciones\n",
    "print(classification_report(y_test, prediction))\n"
   ]
  },
  {
   "cell_type": "code",
   "execution_count": 24,
   "metadata": {},
   "outputs": [
    {
     "name": "stdout",
     "output_type": "stream",
     "text": [
      "Precisión (Acurracy) :  88.64%\n",
      "Puntuación ROC_AUC :  89.08%\n"
     ]
    },
    {
     "data": {
      "image/png": "[encoded data removed]",
      "text/plain": [
       "<Figure size 432x288 with 1 Axes>"
      ]
     },
     "metadata": {
      "needs_background": "light"
     },
     "output_type": "display_data"
    },
    {
     "name": "stdout",
     "output_type": "stream",
     "text": [
      "              precision    recall  f1-score   support\n",
      "\n",
      "           0       0.83      0.96      0.89      1095\n",
      "           1       0.95      0.83      0.89      1256\n",
      "\n",
      "    accuracy                           0.89      2351\n",
      "   macro avg       0.89      0.89      0.89      2351\n",
      "weighted avg       0.90      0.89      0.89      2351\n",
      "\n"
     ]
    },
    {
     "data": {
      "image/png": "[encoded data removed]",
      "text/plain": [
       "<Figure size 432x288 with 2 Axes>"
      ]
     },
     "metadata": {
      "needs_background": "light"
     },
     "output_type": "display_data"
    }
   ],
   "source": [
    "RANDOM_STATE = 9678\n",
    "X_train, X_test, y_train, y_test = train_test_split(X, y, test_size=0.2, random_state=RANDOM_STATE)\n",
    "log_classifier = SGDClassifier(loss=funcion_coste,  fit_intercept=True, random_state=RANDOM_STATE)\n",
    "\n",
    "log_classifier.fit(X_train, y_train)\n",
    "prediction = log_classifier.predict(X_test)\n",
    "accuracy = accuracy_score(y_test, prediction)\n",
    "\n",
    "cv = RepeatedStratifiedKFold(n_splits = 10, n_repeats = 3, random_state = 1)\n",
    "\n",
    "print(\"Precisión (Acurracy) : \",'{0:.2%}'.format(accuracy_score(y_test,prediction)))\n",
    "#print(\"Puntuación de validación cruzada(Cross Validation Score) con Train : \",'{0:.2%}'.format(cross_val_score(log_classifier,X_train,y_train, cv = cv ,scoring = 'roc_auc').mean()))\n",
    "#print(\"Puntuación de validación cruzada(Cross Validation Score) con Val : \",'{0:.2%}'.format(cross_val_score(log_classifier,X_val_OH_sc,y_val_OH, cv = cv ,scoring = 'roc_auc').mean()))\n",
    "print(\"Puntuación ROC_AUC : \",'{0:.2%}'.format(roc_auc_score(y_test,prediction)))\n",
    "\n",
    "RocCurveDisplay.from_estimator(log_classifier, X_test,y_test)\n",
    "plt.title('ROC_AUC')\n",
    "plt.show()\n",
    "\n",
    "colores = ['#55A4DB','#FFBF24']\n",
    "# Matriz de confusión\n",
    "\n",
    "cm = confusion_matrix(y_test, prediction)\n",
    "nombres = ['Verdadero Negativo','Falso Positivo','Falso Negativo','Verdadero Positivo']\n",
    "counts = [value for value in cm.flatten()]\n",
    "porcentajes = ['{0:.2%}'.format(value) for value in cm.flatten()/np.sum(cm)]\n",
    "etiquetas = [f'{v1}\\n{v2}\\n{v3}' for v1, v2, v3 in zip(nombres,counts,porcentajes)]\n",
    "etiquetas = np.asarray(etiquetas).reshape(2,2)\n",
    "sns.heatmap(cm,annot = etiquetas,cmap = colores,fmt ='')\n",
    "\n",
    "# Informe con clasificaciones\n",
    "print(classification_report(y_test, prediction))\n"
   ]
  },
  {
   "cell_type": "code",
   "execution_count": null,
   "metadata": {},
   "outputs": [],
   "source": []
  }
 ],
 "metadata": {
  "kernelspec": {
   "display_name": "base",
   "language": "python",
   "name": "python3"
  },
  "language_info": {
   "codemirror_mode": {
    "name": "ipython",
    "version": 3
   },
   "file_extension": ".py",
   "mimetype": "text/x-python",
   "name": "python",
   "nbconvert_exporter": "python",
   "pygments_lexer": "ipython3",
   "version": "3.8.8"
  },
  "orig_nbformat": 4
 },
 "nbformat": 4,
 "nbformat_minor": 2
}
