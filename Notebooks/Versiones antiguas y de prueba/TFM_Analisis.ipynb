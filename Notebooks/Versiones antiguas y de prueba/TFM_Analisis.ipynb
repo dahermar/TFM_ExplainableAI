{
 "cells": [
  {
   "cell_type": "code",
   "execution_count": null,
   "metadata": {},
   "outputs": [],
   "source": [
    "import pandas as pd\n",
    "import matplotlib.pyplot as plt\n",
    "import seaborn as sns\n",
    "\n",
    "RANDOM_STATE = 123"
   ]
  },
  {
   "cell_type": "code",
   "execution_count": null,
   "metadata": {},
   "outputs": [],
   "source": [
    "smt_2020_df = pd.read_excel('data/I11_SMT Incidents 2020.xlsx')\n",
    "\n",
    "smt_2020_df.columns = smt_2020_df.iloc[11].values\n",
    "smt_2020_df = smt_2020_df.iloc[12:]\n",
    "smt_2020_df = smt_2020_df.reset_index(drop=True)\n"
   ]
  },
  {
   "cell_type": "code",
   "execution_count": null,
   "metadata": {},
   "outputs": [],
   "source": [
    "smt_2021_df = pd.read_excel('data/I11_SMT Incidents 2021.xlsx')\n",
    "\n",
    "smt_2021_df.columns = smt_2021_df.iloc[11].values\n",
    "smt_2021_df = smt_2021_df.iloc[12:]\n",
    "smt_2021_df = smt_2021_df.reset_index(drop=True)"
   ]
  },
  {
   "cell_type": "code",
   "execution_count": null,
   "metadata": {},
   "outputs": [],
   "source": [
    "smt_2022_df = pd.read_excel('data/I11_SMT Incidents 2022.xlsx')\n",
    "\n",
    "smt_2022_df.columns = smt_2022_df.iloc[11].values\n",
    "smt_2022_df = smt_2022_df.iloc[12:]\n",
    "smt_2022_df = smt_2022_df.reset_index(drop=True)"
   ]
  },
  {
   "cell_type": "code",
   "execution_count": null,
   "metadata": {},
   "outputs": [],
   "source": [
    "smt_df = pd.concat([smt_2020_df, smt_2021_df, smt_2022_df])\n",
    "smt_df.reset_index(drop=True,inplace=True)\n",
    "\n",
    "pd.set_option('display.max_columns', None)"
   ]
  },
  {
   "cell_type": "code",
   "execution_count": null,
   "metadata": {},
   "outputs": [],
   "source": [
    "celonis_2020_df = pd.read_excel('data/Tickets_Celonis_2020.xlsx')\n",
    "celonis_2020_df = celonis_2020_df.reset_index(drop=True)"
   ]
  },
  {
   "cell_type": "code",
   "execution_count": null,
   "metadata": {},
   "outputs": [],
   "source": [
    "celonis_2021_df = pd.read_excel('data/Tickets_Celonis_2021.xlsx')\n",
    "celonis_2021_df = celonis_2021_df.reset_index(drop=True)"
   ]
  },
  {
   "cell_type": "code",
   "execution_count": null,
   "metadata": {},
   "outputs": [],
   "source": [
    "celonis_2022_df = pd.read_excel('data/Tickets_Celonis_2022.xlsx')\n",
    "celonis_2022_df = celonis_2022_df.reset_index(drop=True)"
   ]
  },
  {
   "cell_type": "code",
   "execution_count": null,
   "metadata": {},
   "outputs": [],
   "source": [
    "celonis_df = pd.concat([celonis_2020_df, celonis_2021_df, celonis_2022_df])\n",
    "celonis_df.reset_index(drop=True,inplace=True)"
   ]
  },
  {
   "cell_type": "code",
   "execution_count": null,
   "metadata": {},
   "outputs": [],
   "source": [
    "#Posibles a borrar ['Current Incident Type', 'Region', 'Impact', 'Site','Product Categorization Tier 1', 'Resolution Categorization Tier 1', 'Resolution Categorization Tier 2', ]\n",
    "#Posibles a no borrar ['Customer Department', 'Primary Center Code']\n",
    "\n",
    "no_borrados_para_analisis = ['Status Reason', 'Customer Department', 'Desk Location', 'Impact', 'Service+', 'CI+', 'Resolution Categorization Tier 3', 'Desk Location']\n",
    "\n",
    "smt_df_clean = smt_df.drop(['Original Incident Number', 'Requisition ID', 'Created Date (UTC+0)', 'Status', 'Customer Department', 'Summary', 'In Progess Time (hhh:mi)\\n', 'Actual Duration/Open Time (hhh:mi)',\n",
    "                                         'Down Time of CI-Unavailability (hhh:mi)', 'Last Modified Date (UTC+0)', 'First Resolved Date (UTC+0)', 'Last Resolved Date (UTC+0)', 'Product Name', \n",
    "                                         'Resolution Product Name', 'Primary Center Code', 'Target Date', 'Notes', 'Resolution'], axis=1)\n",
    "\n",
    "smt_df_clean.fillna('NaN', inplace=True)"
   ]
  },
  {
   "cell_type": "code",
   "execution_count": null,
   "metadata": {},
   "outputs": [],
   "source": [
    "#Posibles a borrar ['Site Group', 'Submitter Group', 'Resolver Organization']\n",
    "#Posibles a no borrar ['Template Name', 'User Company']\n",
    "celonis_no_borrados_para_analisis = ['Service Name', 'Template Name', 'User Company', 'CI']\n",
    "\n",
    "celonis_df_clean = celonis_df.drop(['Submit Date', 'Ticket Summary', 'Last Resolution Date', 'Requisition ID', 'Site', 'Site Group', 'Reported Source', 'Status'], axis=1)\n",
    "celonis_df_clean.fillna('NaN', inplace=True)"
   ]
  },
  {
   "cell_type": "code",
   "execution_count": null,
   "metadata": {},
   "outputs": [],
   "source": [
    "combined_df = pd.merge(celonis_df_clean, smt_df_clean, how='inner', left_on='Incident Number', right_on='Incident ID')\n",
    "combined_df.drop(['Incident ID'], axis=1, inplace=True) #Comprobar Target Date"
   ]
  },
  {
   "cell_type": "code",
   "execution_count": null,
   "metadata": {},
   "outputs": [],
   "source": [
    "fig, axes = plt.subplots(4, 2, figsize=(16, 18))\n",
    "fig.suptitle('Histogramas de frecuencias de Resolution Time', fontsize=16)\n",
    "\n",
    "#Rango completo de Last Resolution Time\n",
    "axes[0, 0].hist(combined_df['Last Resolution Time'], bins=50, color='blue', edgecolor='black')\n",
    "axes[0, 0].set_title('Rango completo de Last Resolution Time')\n",
    "axes[0, 0].set_xlabel('Resolution Time')\n",
    "axes[0, 0].set_ylabel('Frecuencias')\n",
    "\n",
    "#Rango de Last Resolution Time entre 0 y 50\n",
    "range_df = combined_df[(combined_df['Last Resolution Time'] <= 50)]\n",
    "axes[0, 1].hist(range_df['Last Resolution Time'], bins=50, color='blue', edgecolor='black')\n",
    "axes[0, 1].set_title('Rango de Last Resolution Time entre 0 y 50')\n",
    "axes[0, 1].set_xlabel('Resolution Time')\n",
    "axes[0, 1].set_ylabel('Frecuencias')\n",
    "\n",
    "#Rango completo de Last Resolution Time con límite en eje y = 50\n",
    "axes[1, 0].hist(combined_df['Last Resolution Time'], bins=50, color='blue', edgecolor='black')\n",
    "axes[1, 0].set_title('Rango completo de Last Resolution Time con límite en eje y = 50')\n",
    "axes[1, 0].set_xlabel('Resolution Time')\n",
    "axes[1, 0].set_ylabel('Frecuencias')\n",
    "axes[1, 0].set_ylim(0, 50)  # Establecer límite en el eje y a 100\n",
    "\n",
    "#Rango de Last Resolution Time entre 0 y 50 con límite en eje y = 200\n",
    "range_df = combined_df[(combined_df['Last Resolution Time'] <= 50)]\n",
    "axes[1, 1].hist(range_df['Last Resolution Time'], bins=50, color='blue', edgecolor='black')\n",
    "axes[1, 1].set_title('Rango de Last Resolution Time entre 0 y 50 con límite en eje y = 50')\n",
    "axes[1, 1].set_xlabel('Resolution Time')\n",
    "axes[1, 1].set_ylabel('Frecuencias')\n",
    "axes[1, 1].set_ylim(0, 200)  # Establecer límite en el eje y a 100\n",
    "\n",
    "#Rango de Last Resolution Time entre 0 y 10\n",
    "range_df = combined_df[(combined_df['Last Resolution Time'] <= 10)]\n",
    "axes[2, 0].hist(range_df['Last Resolution Time'], bins=50, color='blue', edgecolor='black')\n",
    "axes[2, 0].set_title('Rango de Last Resolution Time entre 0 y 10')\n",
    "axes[2, 0].set_xlabel('Resolution Time')\n",
    "axes[2, 0].set_ylabel('Frecuencias')\n",
    "\n",
    "#Rango de Last Resolution Time entre 0 y 1\n",
    "range_df = combined_df[(combined_df['Last Resolution Time'] <= 1)]\n",
    "axes[2, 1].hist(range_df['Last Resolution Time'], bins=50, color='blue', edgecolor='black')\n",
    "axes[2, 1].set_title('Rango de Resolution time entre 0 y 1')\n",
    "axes[2, 1].set_xlabel('Resolution Time')\n",
    "axes[2, 1].set_ylabel('Frecuencias')\n",
    "\n",
    "#Rango de Last Resolution Time entre 0 y 0.5\n",
    "range_df = combined_df[(combined_df['Last Resolution Time'] <= 0.5)]\n",
    "axes[3, 0].hist(range_df['Last Resolution Time'], bins=50, color='blue', edgecolor='black')\n",
    "axes[3, 0].set_title('Rango de Resolution time entre 0 y 0.5')\n",
    "axes[3, 0].set_xlabel('Resolution Time')\n",
    "axes[3, 0].set_ylabel('Frecuencias')\n",
    "\n",
    "#Rango de Last Resolution Time entre 0 y 0.1\n",
    "range_df = combined_df[(combined_df['Last Resolution Time'] <= 0.1)]\n",
    "axes[3, 1].hist(range_df['Last Resolution Time'], bins=50, color='blue', edgecolor='black')\n",
    "axes[3, 1].set_title('Rango de Resolution time entre 0 y 0.1')\n",
    "axes[3, 1].set_xlabel('Resolution Time')\n",
    "axes[3, 1].set_ylabel('Frecuencias')\n",
    "\n",
    "fig.tight_layout(rect=[0, 0, 1, 0.96])\n",
    "\n",
    "# Mostrar los subgráficos\n",
    "plt.show()\n"
   ]
  },
  {
   "cell_type": "code",
   "execution_count": null,
   "metadata": {},
   "outputs": [],
   "source": [
    "plot_df = combined_df.drop(columns=['Incident Number'])\n",
    "\n",
    "target_column = 'Last Resolution Time'\n",
    "\n",
    "for column in plot_df.columns:\n",
    "    if column != target_column:\n",
    "        # Crear un gráfico de dispersión\n",
    "        plt.figure(figsize=(30, 6))\n",
    "        ax = sns.stripplot(x=column, y=target_column, data=plot_df, jitter=True, alpha=0.5, color='blue')\n",
    "        plt.title(column)\n",
    "        plt.xlabel(column)\n",
    "        plt.ylabel(target_column)\n",
    "\n",
    "        # Rotar las etiquetas del eje x\n",
    "        ax.set_xticklabels(ax.get_xticklabels(), rotation=45, ha='right')\n",
    "\n",
    "        plt.show()"
   ]
  },
  {
   "cell_type": "code",
   "execution_count": null,
   "metadata": {},
   "outputs": [],
   "source": [
    "percentil_df = combined_df['Last Resolution Time'].quantile(0.97)\n",
    "combined_percentil_df = combined_df[combined_df['Last Resolution Time'] < percentil_df]"
   ]
  },
  {
   "cell_type": "code",
   "execution_count": null,
   "metadata": {},
   "outputs": [],
   "source": [
    "plot_df = combined_percentil_df.drop(columns=['Incident Number'])\n",
    "\n",
    "target_column = 'Last Resolution Time'\n",
    "\n",
    "for column in plot_df.columns:\n",
    "    if column != target_column:\n",
    "        # Crear un gráfico de dispersión\n",
    "        plt.figure(figsize=(30, 6))\n",
    "        ax = sns.stripplot(x=column, y=target_column, data=plot_df, jitter=True, alpha=0.5, color='blue')\n",
    "        plt.title(column)\n",
    "        plt.xlabel(column)\n",
    "        plt.ylabel(target_column)\n",
    "\n",
    "        # Rotar las etiquetas del eje x\n",
    "        ax.set_xticklabels(ax.get_xticklabels(), rotation=45, ha='right')\n",
    "\n",
    "        plt.show()"
   ]
  },
  {
   "cell_type": "code",
   "execution_count": null,
   "metadata": {},
   "outputs": [],
   "source": [
    "plot_df = plot_df[plot_df['Last Resolution Time'] <= 1]\n",
    "\n",
    "target_column = 'Last Resolution Time'\n",
    "\n",
    "for column in plot_df.columns:\n",
    "    if column != target_column:\n",
    "        # Crear un gráfico de dispersión\n",
    "        plt.figure(figsize=(30, 6))\n",
    "        ax = sns.stripplot(x=column, y=target_column, data=plot_df, jitter=True, alpha=0.5, color='blue')\n",
    "        plt.title(column)\n",
    "        plt.xlabel(column)\n",
    "        plt.ylabel(target_column)\n",
    "\n",
    "        # Rotar las etiquetas del eje x\n",
    "        ax.set_xticklabels(ax.get_xticklabels(), rotation=45, ha='right')\n",
    "\n",
    "        plt.show()"
   ]
  },
  {
   "cell_type": "code",
   "execution_count": null,
   "metadata": {},
   "outputs": [],
   "source": []
  }
 ],
 "metadata": {
  "kernelspec": {
   "display_name": "base",
   "language": "python",
   "name": "python3"
  },
  "language_info": {
   "codemirror_mode": {
    "name": "ipython",
    "version": 3
   },
   "file_extension": ".py",
   "mimetype": "text/x-python",
   "name": "python",
   "nbconvert_exporter": "python",
   "pygments_lexer": "ipython3",
   "version": "3.8.8"
  },
  "orig_nbformat": 4
 },
 "nbformat": 4,
 "nbformat_minor": 2
}
